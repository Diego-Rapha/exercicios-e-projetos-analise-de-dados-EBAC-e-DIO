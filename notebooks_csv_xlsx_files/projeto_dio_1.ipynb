{
  "nbformat": 4,
  "nbformat_minor": 0,
  "metadata": {
    "colab": {
      "provenance": []
    },
    "kernelspec": {
      "name": "python3",
      "display_name": "Python 3"
    },
    "language_info": {
      "name": "python"
    }
  },
  "cells": [
    {
      "cell_type": "code",
      "execution_count": null,
      "metadata": {
        "id": "jCMuaRZKMN6k"
      },
      "outputs": [],
      "source": [
        "import pandas as pd\n",
        "import matplotlib.pyplot as plt\n",
        "from openpyxl import Workbook, load_workbook"
      ]
    },
    {
      "cell_type": "code",
      "source": [
        "wb = load_workbook(\"meio_circulante_dados_abertos.xlsx\")"
      ],
      "metadata": {
        "id": "GsSc6W8XMjuP"
      },
      "execution_count": null,
      "outputs": []
    },
    {
      "cell_type": "code",
      "source": [
        "for sheet in wb:\n",
        "  print(sheet)"
      ],
      "metadata": {
        "colab": {
          "base_uri": "https://localhost:8080/"
        },
        "id": "HWx5wajoNYCm",
        "outputId": "570cf94d-7c7d-4fd0-e493-aa249f52e39e"
      },
      "execution_count": null,
      "outputs": [
        {
          "output_type": "stream",
          "name": "stdout",
          "text": [
            "<Worksheet \"meio_circulante_dados_abertos.x\">\n"
          ]
        }
      ]
    },
    {
      "cell_type": "code",
      "source": [
        "ws = wb[\"meio_circulante_dados_abertos.x\"]"
      ],
      "metadata": {
        "id": "2Deabu8qNyx_"
      },
      "execution_count": null,
      "outputs": []
    },
    {
      "cell_type": "code",
      "source": [
        "ws.insert_rows(0)\n",
        "wb.save('meio_circulante_dados_abertos.xlsx')"
      ],
      "metadata": {
        "id": "-Y_fdGmtO_6m"
      },
      "execution_count": null,
      "outputs": []
    }
  ]
}