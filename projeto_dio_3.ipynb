{
  "nbformat": 4,
  "nbformat_minor": 0,
  "metadata": {
    "colab": {
      "provenance": []
    },
    "kernelspec": {
      "name": "python3",
      "display_name": "Python 3"
    },
    "language_info": {
      "name": "python"
    }
  },
  "cells": [
    {
      "cell_type": "code",
      "execution_count": 1,
      "metadata": {
        "id": "q4LDqnow4hDo"
      },
      "outputs": [],
      "source": [
        "import pandas as pd\n",
        "import matplotlib.pyplot as plt\n",
        "from openpyxl import Workbook, load_workbook\n"
      ]
    },
    {
      "cell_type": "code",
      "source": [
        "wb = load_workbook(\"meio_circulante_dados_abertos_2.xlsx\")"
      ],
      "metadata": {
        "id": "Fsy7vwK24ydQ"
      },
      "execution_count": 2,
      "outputs": []
    },
    {
      "cell_type": "code",
      "source": [
        "for sheet in wb:\n",
        "  print(sheet)"
      ],
      "metadata": {
        "colab": {
          "base_uri": "https://localhost:8080/"
        },
        "id": "MqibK7L_4zYX",
        "outputId": "421fcae3-5eaf-4c47-95ef-34c998494ce1"
      },
      "execution_count": 3,
      "outputs": [
        {
          "output_type": "stream",
          "name": "stdout",
          "text": [
            "<Worksheet \"meio_circulante_dados_abertos.x\">\n"
          ]
        }
      ]
    },
    {
      "cell_type": "code",
      "source": [
        "ws = wb[\"meio_circulante_dados_abertos.x\"]"
      ],
      "metadata": {
        "id": "WNHVM6FY49N7"
      },
      "execution_count": 4,
      "outputs": []
    },
    {
      "cell_type": "code",
      "source": [
        "df = pd.read_excel(\"meio_circulante_dados_abertos_2.xlsx\")"
      ],
      "metadata": {
        "id": "Sflwb3CO5AZH"
      },
      "execution_count": 5,
      "outputs": []
    },
    {
      "cell_type": "code",
      "source": [
        "df['NUMERÁRIO'] = df['REAIS'] + (df['CENTAVOS']/100)"
      ],
      "metadata": {
        "id": "lrjLUzro5CAf"
      },
      "execution_count": 6,
      "outputs": []
    },
    {
      "cell_type": "code",
      "source": [
        "df.head()"
      ],
      "metadata": {
        "colab": {
          "base_uri": "https://localhost:8080/",
          "height": 206
        },
        "id": "roa72tCI5n-8",
        "outputId": "c47ebe52-141c-4755-9b6c-305f734a3c04"
      },
      "execution_count": 7,
      "outputs": [
        {
          "output_type": "execute_result",
          "data": {
            "text/plain": [
              "         DATA            FAMÍLIA (ESPÉCIE)  REAIS  CENTAVOS    TIRAGEM  \\\n",
              "0  02/01/1995  Moedas - 1a. Família (inox)      0         1  834342314   \n",
              "1  02/01/1995  Moedas - 1a. Família (inox)      0         5  636711876   \n",
              "2  02/01/1995  Moedas - 1a. Família (inox)      0        10  583076666   \n",
              "3  02/01/1995  Moedas - 1a. Família (inox)      0        25  146883388   \n",
              "4  02/01/1995  Moedas - 1a. Família (inox)      0        50  329791540   \n",
              "\n",
              "   NUMERÁRIO  \n",
              "0       0.01  \n",
              "1       0.05  \n",
              "2       0.10  \n",
              "3       0.25  \n",
              "4       0.50  "
            ],
            "text/html": [
              "\n",
              "  <div id=\"df-af81977b-a66f-45b2-a1fb-ec8da865541f\">\n",
              "    <div class=\"colab-df-container\">\n",
              "      <div>\n",
              "<style scoped>\n",
              "    .dataframe tbody tr th:only-of-type {\n",
              "        vertical-align: middle;\n",
              "    }\n",
              "\n",
              "    .dataframe tbody tr th {\n",
              "        vertical-align: top;\n",
              "    }\n",
              "\n",
              "    .dataframe thead th {\n",
              "        text-align: right;\n",
              "    }\n",
              "</style>\n",
              "<table border=\"1\" class=\"dataframe\">\n",
              "  <thead>\n",
              "    <tr style=\"text-align: right;\">\n",
              "      <th></th>\n",
              "      <th>DATA</th>\n",
              "      <th>FAMÍLIA (ESPÉCIE)</th>\n",
              "      <th>REAIS</th>\n",
              "      <th>CENTAVOS</th>\n",
              "      <th>TIRAGEM</th>\n",
              "      <th>NUMERÁRIO</th>\n",
              "    </tr>\n",
              "  </thead>\n",
              "  <tbody>\n",
              "    <tr>\n",
              "      <th>0</th>\n",
              "      <td>02/01/1995</td>\n",
              "      <td>Moedas - 1a. Família (inox)</td>\n",
              "      <td>0</td>\n",
              "      <td>1</td>\n",
              "      <td>834342314</td>\n",
              "      <td>0.01</td>\n",
              "    </tr>\n",
              "    <tr>\n",
              "      <th>1</th>\n",
              "      <td>02/01/1995</td>\n",
              "      <td>Moedas - 1a. Família (inox)</td>\n",
              "      <td>0</td>\n",
              "      <td>5</td>\n",
              "      <td>636711876</td>\n",
              "      <td>0.05</td>\n",
              "    </tr>\n",
              "    <tr>\n",
              "      <th>2</th>\n",
              "      <td>02/01/1995</td>\n",
              "      <td>Moedas - 1a. Família (inox)</td>\n",
              "      <td>0</td>\n",
              "      <td>10</td>\n",
              "      <td>583076666</td>\n",
              "      <td>0.10</td>\n",
              "    </tr>\n",
              "    <tr>\n",
              "      <th>3</th>\n",
              "      <td>02/01/1995</td>\n",
              "      <td>Moedas - 1a. Família (inox)</td>\n",
              "      <td>0</td>\n",
              "      <td>25</td>\n",
              "      <td>146883388</td>\n",
              "      <td>0.25</td>\n",
              "    </tr>\n",
              "    <tr>\n",
              "      <th>4</th>\n",
              "      <td>02/01/1995</td>\n",
              "      <td>Moedas - 1a. Família (inox)</td>\n",
              "      <td>0</td>\n",
              "      <td>50</td>\n",
              "      <td>329791540</td>\n",
              "      <td>0.50</td>\n",
              "    </tr>\n",
              "  </tbody>\n",
              "</table>\n",
              "</div>\n",
              "      <button class=\"colab-df-convert\" onclick=\"convertToInteractive('df-af81977b-a66f-45b2-a1fb-ec8da865541f')\"\n",
              "              title=\"Convert this dataframe to an interactive table.\"\n",
              "              style=\"display:none;\">\n",
              "        \n",
              "  <svg xmlns=\"http://www.w3.org/2000/svg\" height=\"24px\"viewBox=\"0 0 24 24\"\n",
              "       width=\"24px\">\n",
              "    <path d=\"M0 0h24v24H0V0z\" fill=\"none\"/>\n",
              "    <path d=\"M18.56 5.44l.94 2.06.94-2.06 2.06-.94-2.06-.94-.94-2.06-.94 2.06-2.06.94zm-11 1L8.5 8.5l.94-2.06 2.06-.94-2.06-.94L8.5 2.5l-.94 2.06-2.06.94zm10 10l.94 2.06.94-2.06 2.06-.94-2.06-.94-.94-2.06-.94 2.06-2.06.94z\"/><path d=\"M17.41 7.96l-1.37-1.37c-.4-.4-.92-.59-1.43-.59-.52 0-1.04.2-1.43.59L10.3 9.45l-7.72 7.72c-.78.78-.78 2.05 0 2.83L4 21.41c.39.39.9.59 1.41.59.51 0 1.02-.2 1.41-.59l7.78-7.78 2.81-2.81c.8-.78.8-2.07 0-2.86zM5.41 20L4 18.59l7.72-7.72 1.47 1.35L5.41 20z\"/>\n",
              "  </svg>\n",
              "      </button>\n",
              "      \n",
              "  <style>\n",
              "    .colab-df-container {\n",
              "      display:flex;\n",
              "      flex-wrap:wrap;\n",
              "      gap: 12px;\n",
              "    }\n",
              "\n",
              "    .colab-df-convert {\n",
              "      background-color: #E8F0FE;\n",
              "      border: none;\n",
              "      border-radius: 50%;\n",
              "      cursor: pointer;\n",
              "      display: none;\n",
              "      fill: #1967D2;\n",
              "      height: 32px;\n",
              "      padding: 0 0 0 0;\n",
              "      width: 32px;\n",
              "    }\n",
              "\n",
              "    .colab-df-convert:hover {\n",
              "      background-color: #E2EBFA;\n",
              "      box-shadow: 0px 1px 2px rgba(60, 64, 67, 0.3), 0px 1px 3px 1px rgba(60, 64, 67, 0.15);\n",
              "      fill: #174EA6;\n",
              "    }\n",
              "\n",
              "    [theme=dark] .colab-df-convert {\n",
              "      background-color: #3B4455;\n",
              "      fill: #D2E3FC;\n",
              "    }\n",
              "\n",
              "    [theme=dark] .colab-df-convert:hover {\n",
              "      background-color: #434B5C;\n",
              "      box-shadow: 0px 1px 3px 1px rgba(0, 0, 0, 0.15);\n",
              "      filter: drop-shadow(0px 1px 2px rgba(0, 0, 0, 0.3));\n",
              "      fill: #FFFFFF;\n",
              "    }\n",
              "  </style>\n",
              "\n",
              "      <script>\n",
              "        const buttonEl =\n",
              "          document.querySelector('#df-af81977b-a66f-45b2-a1fb-ec8da865541f button.colab-df-convert');\n",
              "        buttonEl.style.display =\n",
              "          google.colab.kernel.accessAllowed ? 'block' : 'none';\n",
              "\n",
              "        async function convertToInteractive(key) {\n",
              "          const element = document.querySelector('#df-af81977b-a66f-45b2-a1fb-ec8da865541f');\n",
              "          const dataTable =\n",
              "            await google.colab.kernel.invokeFunction('convertToInteractive',\n",
              "                                                     [key], {});\n",
              "          if (!dataTable) return;\n",
              "\n",
              "          const docLinkHtml = 'Like what you see? Visit the ' +\n",
              "            '<a target=\"_blank\" href=https://colab.research.google.com/notebooks/data_table.ipynb>data table notebook</a>'\n",
              "            + ' to learn more about interactive tables.';\n",
              "          element.innerHTML = '';\n",
              "          dataTable['output_type'] = 'display_data';\n",
              "          await google.colab.output.renderOutput(dataTable, element);\n",
              "          const docLink = document.createElement('div');\n",
              "          docLink.innerHTML = docLinkHtml;\n",
              "          element.appendChild(docLink);\n",
              "        }\n",
              "      </script>\n",
              "    </div>\n",
              "  </div>\n",
              "  "
            ]
          },
          "metadata": {},
          "execution_count": 7
        }
      ]
    },
    {
      "cell_type": "code",
      "source": [
        "wb.save('meio_circulante_dados_abertos_2.xlsx')"
      ],
      "metadata": {
        "id": "uwGTLj_HqLeA"
      },
      "execution_count": 8,
      "outputs": []
    },
    {
      "cell_type": "code",
      "source": [
        "df['MONTANTE'] = df['NUMERÁRIO'] * df['TIRAGEM']"
      ],
      "metadata": {
        "id": "Y48klmCY_D76"
      },
      "execution_count": 9,
      "outputs": []
    },
    {
      "cell_type": "code",
      "source": [
        "df.head()"
      ],
      "metadata": {
        "colab": {
          "base_uri": "https://localhost:8080/",
          "height": 206
        },
        "id": "0xvgcUMD_SiA",
        "outputId": "b3c71b0b-3310-4d58-814b-2a07077f62c5"
      },
      "execution_count": 10,
      "outputs": [
        {
          "output_type": "execute_result",
          "data": {
            "text/plain": [
              "         DATA            FAMÍLIA (ESPÉCIE)  REAIS  CENTAVOS    TIRAGEM  \\\n",
              "0  02/01/1995  Moedas - 1a. Família (inox)      0         1  834342314   \n",
              "1  02/01/1995  Moedas - 1a. Família (inox)      0         5  636711876   \n",
              "2  02/01/1995  Moedas - 1a. Família (inox)      0        10  583076666   \n",
              "3  02/01/1995  Moedas - 1a. Família (inox)      0        25  146883388   \n",
              "4  02/01/1995  Moedas - 1a. Família (inox)      0        50  329791540   \n",
              "\n",
              "   NUMERÁRIO      MONTANTE  \n",
              "0       0.01  8.343423e+06  \n",
              "1       0.05  3.183559e+07  \n",
              "2       0.10  5.830767e+07  \n",
              "3       0.25  3.672085e+07  \n",
              "4       0.50  1.648958e+08  "
            ],
            "text/html": [
              "\n",
              "  <div id=\"df-ed4036d4-6119-492e-8fcf-a72c819bc917\">\n",
              "    <div class=\"colab-df-container\">\n",
              "      <div>\n",
              "<style scoped>\n",
              "    .dataframe tbody tr th:only-of-type {\n",
              "        vertical-align: middle;\n",
              "    }\n",
              "\n",
              "    .dataframe tbody tr th {\n",
              "        vertical-align: top;\n",
              "    }\n",
              "\n",
              "    .dataframe thead th {\n",
              "        text-align: right;\n",
              "    }\n",
              "</style>\n",
              "<table border=\"1\" class=\"dataframe\">\n",
              "  <thead>\n",
              "    <tr style=\"text-align: right;\">\n",
              "      <th></th>\n",
              "      <th>DATA</th>\n",
              "      <th>FAMÍLIA (ESPÉCIE)</th>\n",
              "      <th>REAIS</th>\n",
              "      <th>CENTAVOS</th>\n",
              "      <th>TIRAGEM</th>\n",
              "      <th>NUMERÁRIO</th>\n",
              "      <th>MONTANTE</th>\n",
              "    </tr>\n",
              "  </thead>\n",
              "  <tbody>\n",
              "    <tr>\n",
              "      <th>0</th>\n",
              "      <td>02/01/1995</td>\n",
              "      <td>Moedas - 1a. Família (inox)</td>\n",
              "      <td>0</td>\n",
              "      <td>1</td>\n",
              "      <td>834342314</td>\n",
              "      <td>0.01</td>\n",
              "      <td>8.343423e+06</td>\n",
              "    </tr>\n",
              "    <tr>\n",
              "      <th>1</th>\n",
              "      <td>02/01/1995</td>\n",
              "      <td>Moedas - 1a. Família (inox)</td>\n",
              "      <td>0</td>\n",
              "      <td>5</td>\n",
              "      <td>636711876</td>\n",
              "      <td>0.05</td>\n",
              "      <td>3.183559e+07</td>\n",
              "    </tr>\n",
              "    <tr>\n",
              "      <th>2</th>\n",
              "      <td>02/01/1995</td>\n",
              "      <td>Moedas - 1a. Família (inox)</td>\n",
              "      <td>0</td>\n",
              "      <td>10</td>\n",
              "      <td>583076666</td>\n",
              "      <td>0.10</td>\n",
              "      <td>5.830767e+07</td>\n",
              "    </tr>\n",
              "    <tr>\n",
              "      <th>3</th>\n",
              "      <td>02/01/1995</td>\n",
              "      <td>Moedas - 1a. Família (inox)</td>\n",
              "      <td>0</td>\n",
              "      <td>25</td>\n",
              "      <td>146883388</td>\n",
              "      <td>0.25</td>\n",
              "      <td>3.672085e+07</td>\n",
              "    </tr>\n",
              "    <tr>\n",
              "      <th>4</th>\n",
              "      <td>02/01/1995</td>\n",
              "      <td>Moedas - 1a. Família (inox)</td>\n",
              "      <td>0</td>\n",
              "      <td>50</td>\n",
              "      <td>329791540</td>\n",
              "      <td>0.50</td>\n",
              "      <td>1.648958e+08</td>\n",
              "    </tr>\n",
              "  </tbody>\n",
              "</table>\n",
              "</div>\n",
              "      <button class=\"colab-df-convert\" onclick=\"convertToInteractive('df-ed4036d4-6119-492e-8fcf-a72c819bc917')\"\n",
              "              title=\"Convert this dataframe to an interactive table.\"\n",
              "              style=\"display:none;\">\n",
              "        \n",
              "  <svg xmlns=\"http://www.w3.org/2000/svg\" height=\"24px\"viewBox=\"0 0 24 24\"\n",
              "       width=\"24px\">\n",
              "    <path d=\"M0 0h24v24H0V0z\" fill=\"none\"/>\n",
              "    <path d=\"M18.56 5.44l.94 2.06.94-2.06 2.06-.94-2.06-.94-.94-2.06-.94 2.06-2.06.94zm-11 1L8.5 8.5l.94-2.06 2.06-.94-2.06-.94L8.5 2.5l-.94 2.06-2.06.94zm10 10l.94 2.06.94-2.06 2.06-.94-2.06-.94-.94-2.06-.94 2.06-2.06.94z\"/><path d=\"M17.41 7.96l-1.37-1.37c-.4-.4-.92-.59-1.43-.59-.52 0-1.04.2-1.43.59L10.3 9.45l-7.72 7.72c-.78.78-.78 2.05 0 2.83L4 21.41c.39.39.9.59 1.41.59.51 0 1.02-.2 1.41-.59l7.78-7.78 2.81-2.81c.8-.78.8-2.07 0-2.86zM5.41 20L4 18.59l7.72-7.72 1.47 1.35L5.41 20z\"/>\n",
              "  </svg>\n",
              "      </button>\n",
              "      \n",
              "  <style>\n",
              "    .colab-df-container {\n",
              "      display:flex;\n",
              "      flex-wrap:wrap;\n",
              "      gap: 12px;\n",
              "    }\n",
              "\n",
              "    .colab-df-convert {\n",
              "      background-color: #E8F0FE;\n",
              "      border: none;\n",
              "      border-radius: 50%;\n",
              "      cursor: pointer;\n",
              "      display: none;\n",
              "      fill: #1967D2;\n",
              "      height: 32px;\n",
              "      padding: 0 0 0 0;\n",
              "      width: 32px;\n",
              "    }\n",
              "\n",
              "    .colab-df-convert:hover {\n",
              "      background-color: #E2EBFA;\n",
              "      box-shadow: 0px 1px 2px rgba(60, 64, 67, 0.3), 0px 1px 3px 1px rgba(60, 64, 67, 0.15);\n",
              "      fill: #174EA6;\n",
              "    }\n",
              "\n",
              "    [theme=dark] .colab-df-convert {\n",
              "      background-color: #3B4455;\n",
              "      fill: #D2E3FC;\n",
              "    }\n",
              "\n",
              "    [theme=dark] .colab-df-convert:hover {\n",
              "      background-color: #434B5C;\n",
              "      box-shadow: 0px 1px 3px 1px rgba(0, 0, 0, 0.15);\n",
              "      filter: drop-shadow(0px 1px 2px rgba(0, 0, 0, 0.3));\n",
              "      fill: #FFFFFF;\n",
              "    }\n",
              "  </style>\n",
              "\n",
              "      <script>\n",
              "        const buttonEl =\n",
              "          document.querySelector('#df-ed4036d4-6119-492e-8fcf-a72c819bc917 button.colab-df-convert');\n",
              "        buttonEl.style.display =\n",
              "          google.colab.kernel.accessAllowed ? 'block' : 'none';\n",
              "\n",
              "        async function convertToInteractive(key) {\n",
              "          const element = document.querySelector('#df-ed4036d4-6119-492e-8fcf-a72c819bc917');\n",
              "          const dataTable =\n",
              "            await google.colab.kernel.invokeFunction('convertToInteractive',\n",
              "                                                     [key], {});\n",
              "          if (!dataTable) return;\n",
              "\n",
              "          const docLinkHtml = 'Like what you see? Visit the ' +\n",
              "            '<a target=\"_blank\" href=https://colab.research.google.com/notebooks/data_table.ipynb>data table notebook</a>'\n",
              "            + ' to learn more about interactive tables.';\n",
              "          element.innerHTML = '';\n",
              "          dataTable['output_type'] = 'display_data';\n",
              "          await google.colab.output.renderOutput(dataTable, element);\n",
              "          const docLink = document.createElement('div');\n",
              "          docLink.innerHTML = docLinkHtml;\n",
              "          element.appendChild(docLink);\n",
              "        }\n",
              "      </script>\n",
              "    </div>\n",
              "  </div>\n",
              "  "
            ]
          },
          "metadata": {},
          "execution_count": 10
        }
      ]
    },
    {
      "cell_type": "code",
      "source": [
        "df.to_csv(\"meio_circulante_dados_abertos_2.csv\", index = False)\n",
        "\n"
      ],
      "metadata": {
        "id": "NOamd6JznMTN"
      },
      "execution_count": 11,
      "outputs": []
    },
    {
      "cell_type": "code",
      "source": [
        "wb.save('meio_circulante_dados_abertos_2.xlsx')"
      ],
      "metadata": {
        "id": "wLelkW5JDNkx"
      },
      "execution_count": 12,
      "outputs": []
    }
  ]
}